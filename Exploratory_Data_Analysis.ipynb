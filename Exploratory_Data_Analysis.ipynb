{
  "cells": [
    {
      "cell_type": "markdown",
      "id": "5e25ea09-74d6-47e6-bad6-e922f52c3532",
      "metadata": {
        "id": "5e25ea09-74d6-47e6-bad6-e922f52c3532"
      },
      "source": [
        "# Personal Information\n",
        "Name: **Klara Willberg**\n",
        "\n",
        "StudentID: **12682586**\n",
        "\n",
        "Email: [**klara.willberg@student.uva.nl**](youremail@student.uva.nl)\n",
        "\n",
        "Submitted on: **19.03.2023**"
      ]
    },
    {
      "cell_type": "markdown",
      "id": "e3cf6243-adfe-4eb8-bba3-bb2835079abd",
      "metadata": {
        "id": "e3cf6243-adfe-4eb8-bba3-bb2835079abd"
      },
      "source": [
        "# Data Context\n",
        "\n",
        "The \"data\" that is being explored in this thesis project is the BioBERT language model. The BioBERT language model is a fine-tuned verision of BERT that was specifically trained on biomedical corpora such as PMc (PubMed Central) full-text documents and PubMed abstracts to enhance ints understanding of biomedical text. This thesis project intends to evaluate the word embeddings of genes within the BioBERT model, and assess to what extent relatedness and similarities between genes can be inferred from biomedical text. "
      ]
    },
    {
      "cell_type": "markdown",
      "id": "a833d964-56e1-49c7-8172-7435357624aa",
      "metadata": {
        "id": "a833d964-56e1-49c7-8172-7435357624aa"
      },
      "source": [
        "# Data Description\n",
        "\n",
        "Below you can find the code for the EDA of BioBERT. This EDA includes exploring how words are tokenized by the BioBERT tokenizer, the distribution of token lengths and the distribution of subword lengths. Moreover, I explore the proportion of subwords compared to the whole BioBERT vocabulary. "
      ]
    },
    {
      "cell_type": "code",
      "execution_count": null,
      "id": "534317db-d881-4e33-a358-754e2881e8bd",
      "metadata": {
        "id": "534317db-d881-4e33-a358-754e2881e8bd"
      },
      "outputs": [],
      "source": [
        "# Imports\n",
        "import os\n",
        "import numpy as np\n",
        "import pandas as pd"
      ]
    },
    {
      "cell_type": "markdown",
      "id": "b582b299-f599-4140-a454-bcbfdeeb273f",
      "metadata": {
        "id": "b582b299-f599-4140-a454-bcbfdeeb273f"
      },
      "source": [
        "### Data Loading"
      ]
    },
    {
      "cell_type": "code",
      "execution_count": 1,
      "id": "9f0cf9be-2cac-4227-957f-ad893212e70c",
      "metadata": {
        "colab": {
          "base_uri": "https://localhost:8080/"
        },
        "id": "9f0cf9be-2cac-4227-957f-ad893212e70c",
        "outputId": "14789660-4d1d-4575-e7b9-225f1b8b2e55"
      },
      "outputs": [
        {
          "output_type": "stream",
          "name": "stdout",
          "text": [
            "Looking in indexes: https://pypi.org/simple, https://us-python.pkg.dev/colab-wheels/public/simple/\n",
            "Collecting pytorch-pretrained-bert\n",
            "  Downloading pytorch_pretrained_bert-0.6.2-py3-none-any.whl (123 kB)\n",
            "\u001b[2K     \u001b[90m━━━━━━━━━━━━━━━━━━━━━━━━━━━━━━━━━━━━━━━\u001b[0m \u001b[32m123.8/123.8 KB\u001b[0m \u001b[31m2.1 MB/s\u001b[0m eta \u001b[36m0:00:00\u001b[0m\n",
            "\u001b[?25hRequirement already satisfied: requests in /usr/local/lib/python3.9/dist-packages (from pytorch-pretrained-bert) (2.27.1)\n",
            "Collecting boto3\n",
            "  Downloading boto3-1.26.94-py3-none-any.whl (135 kB)\n",
            "\u001b[2K     \u001b[90m━━━━━━━━━━━━━━━━━━━━━━━━━━━━━━━━━━━━━━━\u001b[0m \u001b[32m135.1/135.1 KB\u001b[0m \u001b[31m2.3 MB/s\u001b[0m eta \u001b[36m0:00:00\u001b[0m\n",
            "\u001b[?25hRequirement already satisfied: torch>=0.4.1 in /usr/local/lib/python3.9/dist-packages (from pytorch-pretrained-bert) (1.13.1+cu116)\n",
            "Requirement already satisfied: tqdm in /usr/local/lib/python3.9/dist-packages (from pytorch-pretrained-bert) (4.65.0)\n",
            "Requirement already satisfied: numpy in /usr/local/lib/python3.9/dist-packages (from pytorch-pretrained-bert) (1.22.4)\n",
            "Requirement already satisfied: regex in /usr/local/lib/python3.9/dist-packages (from pytorch-pretrained-bert) (2022.10.31)\n",
            "Requirement already satisfied: typing-extensions in /usr/local/lib/python3.9/dist-packages (from torch>=0.4.1->pytorch-pretrained-bert) (4.5.0)\n",
            "Collecting jmespath<2.0.0,>=0.7.1\n",
            "  Downloading jmespath-1.0.1-py3-none-any.whl (20 kB)\n",
            "Collecting s3transfer<0.7.0,>=0.6.0\n",
            "  Downloading s3transfer-0.6.0-py3-none-any.whl (79 kB)\n",
            "\u001b[2K     \u001b[90m━━━━━━━━━━━━━━━━━━━━━━━━━━━━━━━━━━━━━━━━\u001b[0m \u001b[32m79.6/79.6 KB\u001b[0m \u001b[31m5.0 MB/s\u001b[0m eta \u001b[36m0:00:00\u001b[0m\n",
            "\u001b[?25hCollecting botocore<1.30.0,>=1.29.94\n",
            "  Downloading botocore-1.29.94-py3-none-any.whl (10.5 MB)\n",
            "\u001b[2K     \u001b[90m━━━━━━━━━━━━━━━━━━━━━━━━━━━━━━━━━━━━━━━━\u001b[0m \u001b[32m10.5/10.5 MB\u001b[0m \u001b[31m34.0 MB/s\u001b[0m eta \u001b[36m0:00:00\u001b[0m\n",
            "\u001b[?25hRequirement already satisfied: certifi>=2017.4.17 in /usr/local/lib/python3.9/dist-packages (from requests->pytorch-pretrained-bert) (2022.12.7)\n",
            "Requirement already satisfied: idna<4,>=2.5 in /usr/local/lib/python3.9/dist-packages (from requests->pytorch-pretrained-bert) (3.4)\n",
            "Requirement already satisfied: urllib3<1.27,>=1.21.1 in /usr/local/lib/python3.9/dist-packages (from requests->pytorch-pretrained-bert) (1.26.15)\n",
            "Requirement already satisfied: charset-normalizer~=2.0.0 in /usr/local/lib/python3.9/dist-packages (from requests->pytorch-pretrained-bert) (2.0.12)\n",
            "Requirement already satisfied: python-dateutil<3.0.0,>=2.1 in /usr/local/lib/python3.9/dist-packages (from botocore<1.30.0,>=1.29.94->boto3->pytorch-pretrained-bert) (2.8.2)\n",
            "Requirement already satisfied: six>=1.5 in /usr/local/lib/python3.9/dist-packages (from python-dateutil<3.0.0,>=2.1->botocore<1.30.0,>=1.29.94->boto3->pytorch-pretrained-bert) (1.15.0)\n",
            "Installing collected packages: jmespath, botocore, s3transfer, boto3, pytorch-pretrained-bert\n",
            "Successfully installed boto3-1.26.94 botocore-1.29.94 jmespath-1.0.1 pytorch-pretrained-bert-0.6.2 s3transfer-0.6.0\n"
          ]
        }
      ],
      "source": [
        "!pip install pytorch-pretrained-bert"
      ]
    },
    {
      "cell_type": "code",
      "source": [
        "pip install torch"
      ],
      "metadata": {
        "colab": {
          "base_uri": "https://localhost:8080/"
        },
        "id": "zIqrUZII39sQ",
        "outputId": "f035da0f-2e1e-4deb-8001-4ea5fa651e63"
      },
      "id": "zIqrUZII39sQ",
      "execution_count": 2,
      "outputs": [
        {
          "output_type": "stream",
          "name": "stdout",
          "text": [
            "Looking in indexes: https://pypi.org/simple, https://us-python.pkg.dev/colab-wheels/public/simple/\n",
            "Requirement already satisfied: torch in /usr/local/lib/python3.9/dist-packages (1.13.1+cu116)\n",
            "Requirement already satisfied: typing-extensions in /usr/local/lib/python3.9/dist-packages (from torch) (4.5.0)\n"
          ]
        }
      ]
    },
    {
      "cell_type": "code",
      "source": [
        "pip install transformers"
      ],
      "metadata": {
        "colab": {
          "base_uri": "https://localhost:8080/"
        },
        "id": "M1pz8zzV4Qj_",
        "outputId": "5dbc92da-f843-4140-96a0-31e4d364b9d3"
      },
      "id": "M1pz8zzV4Qj_",
      "execution_count": 4,
      "outputs": [
        {
          "output_type": "stream",
          "name": "stdout",
          "text": [
            "Looking in indexes: https://pypi.org/simple, https://us-python.pkg.dev/colab-wheels/public/simple/\n",
            "Collecting transformers\n",
            "  Downloading transformers-4.27.1-py3-none-any.whl (6.7 MB)\n",
            "\u001b[2K     \u001b[90m━━━━━━━━━━━━━━━━━━━━━━━━━━━━━━━━━━━━━━━━\u001b[0m \u001b[32m6.7/6.7 MB\u001b[0m \u001b[31m49.1 MB/s\u001b[0m eta \u001b[36m0:00:00\u001b[0m\n",
            "\u001b[?25hRequirement already satisfied: regex!=2019.12.17 in /usr/local/lib/python3.9/dist-packages (from transformers) (2022.10.31)\n",
            "Requirement already satisfied: filelock in /usr/local/lib/python3.9/dist-packages (from transformers) (3.10.0)\n",
            "Collecting tokenizers!=0.11.3,<0.14,>=0.11.1\n",
            "  Downloading tokenizers-0.13.2-cp39-cp39-manylinux_2_17_x86_64.manylinux2014_x86_64.whl (7.6 MB)\n",
            "\u001b[2K     \u001b[90m━━━━━━━━━━━━━━━━━━━━━━━━━━━━━━━━━━━━━━━━\u001b[0m \u001b[32m7.6/7.6 MB\u001b[0m \u001b[31m91.6 MB/s\u001b[0m eta \u001b[36m0:00:00\u001b[0m\n",
            "\u001b[?25hRequirement already satisfied: pyyaml>=5.1 in /usr/local/lib/python3.9/dist-packages (from transformers) (6.0)\n",
            "Requirement already satisfied: numpy>=1.17 in /usr/local/lib/python3.9/dist-packages (from transformers) (1.22.4)\n",
            "Requirement already satisfied: packaging>=20.0 in /usr/local/lib/python3.9/dist-packages (from transformers) (23.0)\n",
            "Requirement already satisfied: tqdm>=4.27 in /usr/local/lib/python3.9/dist-packages (from transformers) (4.65.0)\n",
            "Requirement already satisfied: requests in /usr/local/lib/python3.9/dist-packages (from transformers) (2.27.1)\n",
            "Collecting huggingface-hub<1.0,>=0.11.0\n",
            "  Downloading huggingface_hub-0.13.2-py3-none-any.whl (199 kB)\n",
            "\u001b[2K     \u001b[90m━━━━━━━━━━━━━━━━━━━━━━━━━━━━━━━━━━━━━━\u001b[0m \u001b[32m199.2/199.2 KB\u001b[0m \u001b[31m20.9 MB/s\u001b[0m eta \u001b[36m0:00:00\u001b[0m\n",
            "\u001b[?25hRequirement already satisfied: typing-extensions>=3.7.4.3 in /usr/local/lib/python3.9/dist-packages (from huggingface-hub<1.0,>=0.11.0->transformers) (4.5.0)\n",
            "Requirement already satisfied: idna<4,>=2.5 in /usr/local/lib/python3.9/dist-packages (from requests->transformers) (3.4)\n",
            "Requirement already satisfied: charset-normalizer~=2.0.0 in /usr/local/lib/python3.9/dist-packages (from requests->transformers) (2.0.12)\n",
            "Requirement already satisfied: urllib3<1.27,>=1.21.1 in /usr/local/lib/python3.9/dist-packages (from requests->transformers) (1.26.15)\n",
            "Requirement already satisfied: certifi>=2017.4.17 in /usr/local/lib/python3.9/dist-packages (from requests->transformers) (2022.12.7)\n",
            "Installing collected packages: tokenizers, huggingface-hub, transformers\n",
            "Successfully installed huggingface-hub-0.13.2 tokenizers-0.13.2 transformers-4.27.1\n"
          ]
        }
      ]
    },
    {
      "cell_type": "code",
      "source": [
        "from transformers import AutoTokenizer, AutoModel\n",
        "import torch\n",
        "from scipy.spatial.distance import cosine\n",
        "from transformers import BertTokenizer, BertModel\n",
        "\n",
        "\n",
        "#DIFFERENT MODELS OF BIOBERT TO TRY:\n",
        "#dmis-lab/biobert-base-cased-v1.2: Trained in the same way as BioBERT-Base v1.1 but includes LM head, which can be useful for probing\n",
        "#dmis-lab/biobert-base-cased-v1.1: BioBERT-Base v1.1 (+ PubMed 1M)\n",
        "#dmis-lab/biobert-large-cased-v1.1: BioBERT-Large v1.1 (+ PubMed 1M)\n",
        "#dmis-lab/biobert-base-cased-v1.2: BioBERT-Base v1.2 (+ PubMed 1M + LM head)\n",
        "\n",
        "# # Load pre-trained BioBERT model and tokenizer\n",
        "tokenizer = BertTokenizer.from_pretrained(\"dmis-lab/biobert-base-cased-v1.1\")\n",
        "model = BertModel.from_pretrained(\"dmis-lab/biobert-base-cased-v1.1\")\n",
        "\n",
        "\n",
        "# tokenizer = BertTokenizer.from_pretrained('bert-base-cased')\n",
        "# model = BertModel.from_pretrained(\"bert-base-cased\")"
      ],
      "metadata": {
        "colab": {
          "base_uri": "https://localhost:8080/"
        },
        "id": "8BMeWiIE3-BS",
        "outputId": "f5bfef62-91eb-4e41-e34e-c4c1354bac88"
      },
      "id": "8BMeWiIE3-BS",
      "execution_count": 33,
      "outputs": [
        {
          "output_type": "stream",
          "name": "stderr",
          "text": [
            "Some weights of the model checkpoint at dmis-lab/biobert-base-cased-v1.1 were not used when initializing BertModel: ['cls.predictions.decoder.weight', 'cls.predictions.transform.dense.weight', 'cls.predictions.bias', 'cls.predictions.transform.LayerNorm.weight', 'cls.predictions.transform.LayerNorm.bias', 'cls.predictions.decoder.bias', 'cls.seq_relationship.bias', 'cls.seq_relationship.weight', 'cls.predictions.transform.dense.bias']\n",
            "- This IS expected if you are initializing BertModel from the checkpoint of a model trained on another task or with another architecture (e.g. initializing a BertForSequenceClassification model from a BertForPreTraining model).\n",
            "- This IS NOT expected if you are initializing BertModel from the checkpoint of a model that you expect to be exactly identical (initializing a BertForSequenceClassification model from a BertForSequenceClassification model).\n"
          ]
        }
      ]
    },
    {
      "cell_type": "markdown",
      "source": [
        "# inspect BioBERT vocabulary"
      ],
      "metadata": {
        "id": "BHhis84s49uE"
      },
      "id": "BHhis84s49uE"
    },
    {
      "cell_type": "code",
      "source": [
        "with open(\"vocabulary.txt\", 'w') as f:\n",
        "    \n",
        "    # For each token...\n",
        "    for token in tokenizer.vocab.keys():\n",
        "        \n",
        "        # Write it out and escape any unicode characters.            \n",
        "        f.write(token + '\\n')"
      ],
      "metadata": {
        "id": "Jc_h6F624PiZ"
      },
      "id": "Jc_h6F624PiZ",
      "execution_count": 34,
      "outputs": []
    },
    {
      "cell_type": "code",
      "source": [
        "one_chars = []\n",
        "one_chars_hashes = []\n",
        "\n",
        "# For each token in the vocabulary...\n",
        "for token in tokenizer.vocab.keys():\n",
        "    \n",
        "    # Record any single-character tokens.\n",
        "    if len(token) == 1:\n",
        "        one_chars.append(token)\n",
        "    \n",
        "    # Record single-character tokens preceded by the two hashes.    \n",
        "    elif len(token) == 3 and token[0:2] == '##':\n",
        "        one_chars_hashes.append(token)"
      ],
      "metadata": {
        "id": "9KmNol9E5DBa"
      },
      "id": "9KmNol9E5DBa",
      "execution_count": 35,
      "outputs": []
    },
    {
      "cell_type": "code",
      "source": [
        "print('Number of single character tokens with hashes:', len(one_chars_hashes), '\\n')\n",
        "\n",
        "# Print all of the single characters, 40 per row.\n",
        "\n",
        "# Strip the hash marks, since they just clutter the display.\n",
        "tokens = [token.replace('##', '') for token in one_chars_hashes]\n",
        "\n",
        "# For every batch of 40 tokens...\n",
        "for i in range(0, len(tokens), 40):\n",
        "    \n",
        "    # Limit the end index so we don't go past the end of the list.\n",
        "    end = min(i + 40, len(tokens) + 1)\n",
        "    \n",
        "    # Print out the tokens, separated by a space.\n",
        "    print(' '.join(tokens[i:end]))"
      ],
      "metadata": {
        "colab": {
          "base_uri": "https://localhost:8080/"
        },
        "id": "EB7vuEsX5DG1",
        "outputId": "8807b968-2c65-4f85-cecb-06d57f91c4a2"
      },
      "id": "EB7vuEsX5DG1",
      "execution_count": 36,
      "outputs": [
        {
          "output_type": "stream",
          "name": "stdout",
          "text": [
            "Number of single character tokens with hashes: 997 \n",
            "\n",
            "s a e n d i y o r t l m h u k g 1 2 3 4 6 7 0 5 9 z A 8 p C c S x b T v E B R f\n",
            "P M D L I w N F O G K V U é W H X j Y q J ō Q Z á í ć ° ó ₂ à ā ū š а ² ī ₃ ₁ ı\n",
            "ú ⁺ ë ₄ ý ½ я ă ه α ي å о й н ü и ä ن ø ς د ş č ₀ ń ö е ³ ر ò р ł ₙ ᵢ ì ß ù ة ν\n",
            "ș ê − م ♭ è ! \" # $ % & ' ( ) * + , - . / : ; < = > ? @ [ \\ ] ^ _ ` { | } ~ ¡ ¢\n",
            "£ ¥ § ¨ © ª « ¬ ® ± ´ µ ¶ · ¹ º » ¼ ¾ ¿ À Á Â Ä Å Æ Ç È É Í Î Ñ Ó Ö × Ø Ú Ü Þ â\n",
            "ã æ ç î ï ð ñ ô õ ÷ û þ ÿ Ā ą Ć Č ď Đ đ ē ė ę ě ğ ġ Ħ ħ ĩ Ī İ ļ Ľ ľ Ł ņ ň ŋ Ō ŏ\n",
            "ő Œ œ ř Ś ś Ş Š Ţ ţ ť ũ ŭ ů ű ų ŵ ŷ ź Ż ż Ž ž Ə ƒ ơ ư ǎ ǐ ǒ ǔ ǫ Ș Ț ț ɐ ɑ ɔ ɕ ə\n",
            "ɛ ɡ ɣ ɨ ɪ ɲ ɾ ʀ ʁ ʂ ʃ ʊ ʋ ʌ ʐ ʑ ʒ ʔ ʰ ʲ ʳ ʷ ʻ ʼ ʾ ʿ ˈ ː ˡ ˢ ˣ ́ ̃ ̍ ̯ ͡ Α Β Γ Δ\n",
            "Ε Η Θ Ι Κ Λ Μ Ν Ο Π Σ Τ Φ Χ Ψ Ω ά έ ή ί β γ δ ε ζ η θ ι κ λ μ ξ ο π ρ σ τ υ φ χ\n",
            "ψ ω ό ύ ώ І Ј А Б В Г Д Е Ж З И К Л М Н О П Р С Т У Ф Х Ц Ч Ш Э Ю Я б в г д ж з\n",
            "к л м п с т у ф х ц ч ш щ ъ ы ь э ю ё і ї ј њ ћ Ա Հ ա ե ի կ մ յ ն ո ս տ ր ւ ְ ִ\n",
            "ֵ ֶ ַ ָ ֹ ּ א ב ג ד ה ו ז ח ט י כ ל ם מ ן נ ס ע פ צ ק ר ש ת ، ء آ أ إ ئ ا ب ت ث\n",
            "ج ح خ ذ ز س ش ص ض ط ظ ع غ ف ق ك ل و ى َ ِ ٹ پ چ ک گ ہ ی ے ं आ क ग च ज ण त द ध न\n",
            "प ब भ म य र ल व श ष स ह ा ि ी ु े ो ् । ॥ আ ই এ ও ক খ গ চ ছ জ ট ত থ দ ধ ন প ব ম\n",
            "য র ল শ স হ ় া ি ী ু ে ো ্ য় க த ப ம ய ர ல வ ா ி ு ் ร ་ ག ང ད ན བ མ ར ལ ས ི ུ\n",
            "ེ ོ ა ე ი ლ ნ ო რ ს ᴬ ᴵ ᵀ ᵃ ᵇ ᵈ ᵉ ᵍ ᵏ ᵐ ᵒ ᵖ ᵗ ᵘ ᵣ ᵤ ᵥ ᶜ ᶠ ḍ Ḥ ḥ Ḩ ḩ ḳ ṃ ṅ ṇ ṛ ṣ\n",
            "ṭ ạ ả ấ ầ ẩ ậ ắ ế ề ể ễ ệ ị ọ ố ồ ổ ộ ớ ờ ợ ụ ủ ứ ừ ử ữ ự ỳ ỹ ἀ ἐ ὁ ὐ ὰ ὶ ὸ ῆ ῖ\n",
            "ῦ ῶ ‐ ‑ ‒ – — ― ‖ ‘ ’ ‚ “ ” „ † ‡ • … ‰ ′ ″ ⁄ ⁰ ⁱ ⁴ ⁵ ⁶ ⁷ ⁸ ⁹ ⁻ ⁿ ₅ ₆ ₇ ₈ ₉ ₊ ₍\n",
            "₎ ₐ ₑ ₒ ₓ ₕ ₖ ₘ ₚ ₛ ₜ ₤ € ₱ ₹ ℓ № ℝ ⅓ ← ↑ → ↔ ⇌ ⇒ ∂ ∈ ∗ ∘ √ ∞ ∧ ∨ ∩ ∪ ≈ ≠ ≡ ≤ ≥\n",
            "⊂ ⊆ ⊕ ⋅ ─ │ ■ ● ★ ☆ ☉ ♠ ♣ ♥ ♦ ♯ ⟨ ⟩ ⱼ 、 。 《 》 「 」 『 』 〜 い う え お か き く け こ さ し す\n",
            "せ そ た ち つ て と な に の は ひ ま み む め も や ゆ よ ら り る れ ん ア ィ イ ウ エ オ カ ガ キ ク グ コ サ シ ジ\n",
            "ス ズ タ ダ ッ テ デ ト ド ナ ニ ハ バ パ フ ブ プ マ ミ ム ャ ュ ラ リ ル レ ロ ン ・ ー 一 三 上 下 中 事 二 井 京 人\n",
            "亻 仁 佐 侍 光 公 力 北 十 南 原 口 史 司 吉 同 和 囗 国 國 土 城 士 大 天 太 夫 女 子 宀 安 宮 宿 小 尚 山 島 川 州 平\n",
            "年 心 愛 戸 文 新 方 日 明 星 書 月 木 本 李 村 東 松 林 正 武 氏 水 氵 江 河 海 版 犬 王 生 田 白 皇 省 真 石 社 神 竹\n",
            "美 義 花 藤 西 谷 車 辶 道 郎 郡 部 野 金 長 門 陽 青 食 馬 高 龍 龸 사 씨 의 이 한 ﬁ ﬂ ！ （ ） ， － ／ ：\n"
          ]
        }
      ]
    },
    {
      "cell_type": "code",
      "source": [
        "print('Are the two sets identical?', set(one_chars) == set(tokens))"
      ],
      "metadata": {
        "colab": {
          "base_uri": "https://localhost:8080/"
        },
        "id": "IVBeFsyU5DKi",
        "outputId": "2562ad80-7b49-4be0-831e-e2e4b0925152"
      },
      "id": "IVBeFsyU5DKi",
      "execution_count": 37,
      "outputs": [
        {
          "output_type": "stream",
          "name": "stdout",
          "text": [
            "Are the two sets identical? True\n"
          ]
        }
      ]
    },
    {
      "cell_type": "code",
      "source": [
        "# tokenizer.vocab.keys()"
      ],
      "metadata": {
        "id": "bxgN7ERL5q1U"
      },
      "id": "bxgN7ERL5q1U",
      "execution_count": 28,
      "outputs": []
    },
    {
      "cell_type": "markdown",
      "source": [
        "# How are words tokenized by BioBERT?"
      ],
      "metadata": {
        "id": "UyNCUooK-B2H"
      },
      "id": "UyNCUooK-B2H"
    },
    {
      "cell_type": "code",
      "source": [
        "# Define the input text\n",
        "text = \"penicillin\"\n",
        "\n",
        "# Tokenize the input text\n",
        "tokens = tokenizer.encode(text, add_special_tokens=True)\n",
        "\n",
        "print(tokens)\n",
        "\n",
        "#Convert the tokens back into words\n",
        "\n",
        "token_words = tokenizer.convert_ids_to_tokens(tokens)\n",
        "print(token_words)"
      ],
      "metadata": {
        "colab": {
          "base_uri": "https://localhost:8080/"
        },
        "id": "UAYrnU9C-Euh",
        "outputId": "b95fc1e3-ac6f-4d36-cdb3-1cfa3fb8b331"
      },
      "id": "UAYrnU9C-Euh",
      "execution_count": 38,
      "outputs": [
        {
          "output_type": "stream",
          "name": "stdout",
          "text": [
            "[101, 8228, 27989, 23824, 102]\n",
            "['[CLS]', 'pen', '##ici', '##llin', '[SEP]']\n"
          ]
        }
      ]
    },
    {
      "cell_type": "markdown",
      "source": [
        "# Distribution of token length in the bioBERT vocabulary"
      ],
      "metadata": {
        "id": "wOeSz_0v7t_4"
      },
      "id": "wOeSz_0v7t_4"
    },
    {
      "cell_type": "code",
      "source": [
        "\n",
        "\n",
        "import matplotlib.pyplot as plt\n",
        "import seaborn as sns\n",
        "import pandas as pd\n",
        "\n",
        "sns.set(style='darkgrid')\n",
        "sns.set(font_scale=1.5)\n",
        "plt.rcParams[\"figure.figsize\"] = (10,5)\n",
        "\n",
        "# Measure the length of every token in the vocab.\n",
        "token_lengths = [len(token) for token in tokenizer.vocab.keys()]\n",
        "\n",
        "# Count the frequency of each token length.\n",
        "token_lengths_counts = pd.Series(token_lengths).value_counts().sort_index()\n",
        "\n",
        "# Plot the number of tokens of each length.\n",
        "sns.barplot(x=token_lengths_counts.index, y=token_lengths_counts)\n",
        "plt.title('Vocab Token Lengths')\n",
        "plt.xlabel('Token Length')\n",
        "plt.ylabel('# of Tokens')\n",
        "\n",
        "print('Maximum token length:', max(token_lengths))\n"
      ],
      "metadata": {
        "colab": {
          "base_uri": "https://localhost:8080/",
          "height": 390
        },
        "id": "CP9FkbY65DN3",
        "outputId": "adf56517-1ed8-4cb8-8a5e-3ebbbdb3f417"
      },
      "id": "CP9FkbY65DN3",
      "execution_count": 39,
      "outputs": [
        {
          "output_type": "stream",
          "name": "stdout",
          "text": [
            "Maximum token length: 18\n"
          ]
        },
        {
          "output_type": "display_data",
          "data": {
            "text/plain": [
              "<Figure size 720x360 with 1 Axes>"
            ],
            "image/png": "[encoded data removed]"
          },
          "metadata": {}
        }
      ]
    },
    {
      "cell_type": "markdown",
      "source": [
        "# Number of subwords (WordPiece tokenization)"
      ],
      "metadata": {
        "id": "GeCoOfih75lk"
      },
      "id": "GeCoOfih75lk"
    },
    {
      "cell_type": "code",
      "source": [
        "num_subwords = 0\n",
        "\n",
        "subword_lengths = []\n",
        "\n",
        "# For each token in the vocabulary...\n",
        "for token in tokenizer.vocab.keys():\n",
        "    \n",
        "    # If it's a subword...\n",
        "    if len(token) >= 2 and token[0:2] == '##':\n",
        "        \n",
        "        # Tally all subwords\n",
        "        num_subwords += 1\n",
        "\n",
        "        # Measure the sub word length (without the hashes)\n",
        "        length = len(token) - 2\n",
        "\n",
        "        # Record the lengths.        \n",
        "        subword_lengths.append(length)\n"
      ],
      "metadata": {
        "id": "R3KvH3zX73-w"
      },
      "id": "R3KvH3zX73-w",
      "execution_count": 20,
      "outputs": []
    },
    {
      "cell_type": "code",
      "source": [
        "vocab_size = len(tokenizer.vocab.keys())\n",
        "\n",
        "print('Number of subwords: {:,} of {:,}'.format(num_subwords, vocab_size))\n",
        "\n",
        "# Calculate the percentage of words that are '##' subwords.\n",
        "prcnt = float(num_subwords) / vocab_size * 100.0\n",
        "\n",
        "print('%.1f%%' % prcnt)"
      ],
      "metadata": {
        "colab": {
          "base_uri": "https://localhost:8080/"
        },
        "id": "KZ7jt_oB5DRA",
        "outputId": "e6ad36c4-f219-4025-da1b-d3633960ee55"
      },
      "id": "KZ7jt_oB5DRA",
      "execution_count": 21,
      "outputs": [
        {
          "output_type": "stream",
          "name": "stdout",
          "text": [
            "Number of subwords: 6,477 of 28,996\n",
            "22.3%\n"
          ]
        }
      ]
    },
    {
      "cell_type": "code",
      "source": [
        "# import matplotlib.pyplot as plt\n",
        "# import seaborn as sns\n",
        "# import numpy as np\n",
        "\n",
        "# sns.set(style='darkgrid')\n",
        "# sns.set(font_scale=1.5)\n",
        "# plt.rcParams[\"figure.figsize\"] = (10,5)\n",
        "\n",
        "# # Measure the length of every subword in the vocab.\n",
        "# subword_lengths = [len(subword.strip('##')) for subword in tokenizer.vocab.keys() if subword.startswith('##')]\n",
        "\n",
        "# # Plot the number of ## subwords of each length.\n",
        "# sns.countplot(subword_lengths)\n",
        "# plt.title('Subword Token Lengths (w/o \"##\")')\n",
        "# plt.xlabel('Subword Length')\n",
        "# plt.ylabel('# of ## Subwords')\n",
        "\n",
        "# print('Maximum subword length:', max(subword_lengths))\n"
      ],
      "metadata": {
        "id": "9m6npSIs8ARt"
      },
      "id": "9m6npSIs8ARt",
      "execution_count": 32,
      "outputs": []
    },
    {
      "cell_type": "code",
      "source": [
        "# Measure the length of every subword in the vocab.\n",
        "subword_lengths = [len(subword.strip('##')) for subword in tokenizer.vocab.keys() if subword.startswith('##')]\n",
        "\n",
        "# Count the frequency of each subword length.\n",
        "subword_lengths_counts = pd.Series(subword_lengths).value_counts().sort_index()\n",
        "\n",
        "# Plot the number of ## subwords of each length.\n",
        "sns.barplot(x=subword_lengths_counts.index, y=subword_lengths_counts)\n",
        "plt.title('Subword Token Lengths (w/o \"##\")')\n",
        "plt.xlabel('Subword Length')\n",
        "plt.ylabel('# of ## Subwords')\n"
      ],
      "metadata": {
        "colab": {
          "base_uri": "https://localhost:8080/",
          "height": 390
        },
        "id": "x2FZuTYo8AUX",
        "outputId": "ed65d4a5-71c0-48c9-90a8-79bb17a73c24"
      },
      "id": "x2FZuTYo8AUX",
      "execution_count": 40,
      "outputs": [
        {
          "output_type": "execute_result",
          "data": {
            "text/plain": [
              "Text(0, 0.5, '# of ## Subwords')"
            ]
          },
          "metadata": {},
          "execution_count": 40
        },
        {
          "output_type": "display_data",
          "data": {
            "text/plain": [
              "<Figure size 720x360 with 1 Axes>"
            ],
            "image/png": "[encoded data removed]"
          },
          "metadata": {}
        }
      ]
    },
    {
      "cell_type": "markdown",
      "source": [
        "# Evaluating cosine similarity between some words"
      ],
      "metadata": {
        "id": "oNfZCHrL9rsO"
      },
      "id": "oNfZCHrL9rsO"
    },
    {
      "cell_type": "code",
      "source": [
        "\n",
        "# Input words\n",
        "word1 = \"gene\"\n",
        "word2 = \"protein\"\n",
        "\n",
        "# Get embeddings for word1\n",
        "inputs1 = tokenizer(word1, return_tensors='pt')\n",
        "outputs1 = model(**inputs1)\n",
        "embedding1 = outputs1.last_hidden_state.mean(dim=1).squeeze()\n",
        "\n",
        "# Get embeddings for word2\n",
        "inputs2 = tokenizer(word2, return_tensors='pt')\n",
        "outputs2 = model(**inputs2)\n",
        "embedding2 = outputs2.last_hidden_state.mean(dim=1).squeeze()\n",
        "\n",
        "# Calculate cosine similarity\n",
        "similarity = 1 - cosine(embedding1.detach().numpy(), embedding2.detach().numpy())\n",
        "\n",
        "# Print similarity\n",
        "print(\"Cosine similarity:\", similarity)"
      ],
      "metadata": {
        "colab": {
          "base_uri": "https://localhost:8080/"
        },
        "id": "n_r-Et8T9x0o",
        "outputId": "66ecf56e-10a0-4343-ac6b-bd192446494c"
      },
      "id": "n_r-Et8T9x0o",
      "execution_count": 26,
      "outputs": [
        {
          "output_type": "stream",
          "name": "stdout",
          "text": [
            "Cosine similarity: 0.9467214941978455\n"
          ]
        }
      ]
    },
    {
      "cell_type": "markdown",
      "source": [
        "# Evaluating euclidean distance between some words"
      ],
      "metadata": {
        "id": "4fp1TSzY9vEA"
      },
      "id": "4fp1TSzY9vEA"
    },
    {
      "cell_type": "code",
      "source": [
        "from scipy.spatial.distance import euclidean\n",
        "\n",
        "#embeddings from the above code\n",
        "distance = euclidean(embedding1.detach().numpy(), embedding2.detach().numpy())\n",
        "print(\"Euclidean distance:\", distance)"
      ],
      "metadata": {
        "id": "WEUxZP7V9rEG"
      },
      "id": "WEUxZP7V9rEG",
      "execution_count": null,
      "outputs": []
    },
    {
      "cell_type": "code",
      "source": [],
      "metadata": {
        "id": "mRYcEdoZAURJ"
      },
      "id": "mRYcEdoZAURJ",
      "execution_count": 45,
      "outputs": []
    },
    {
      "cell_type": "code",
      "source": [],
      "metadata": {
        "id": "Av66sFnFAUZc"
      },
      "id": "Av66sFnFAUZc",
      "execution_count": null,
      "outputs": []
    },
    {
      "cell_type": "code",
      "source": [],
      "metadata": {
        "id": "Boi4JWP9AUeL"
      },
      "id": "Boi4JWP9AUeL",
      "execution_count": null,
      "outputs": []
    },
    {
      "cell_type": "markdown",
      "source": [],
      "metadata": {
        "id": "rzkOyHYE_Gw_"
      },
      "id": "rzkOyHYE_Gw_"
    }
  ],
  "metadata": {
    "kernelspec": {
      "display_name": "Python 3.8.8 ('base')",
      "language": "python",
      "name": "python3"
    },
    "language_info": {
      "codemirror_mode": {
        "name": "ipython",
        "version": 3
      },
      "file_extension": ".py",
      "mimetype": "text/x-python",
      "name": "python",
      "nbconvert_exporter": "python",
      "pygments_lexer": "ipython3",
      "version": "3.8.8"
    },
    "vscode": {
      "interpreter": {
        "hash": "f4bc7a400e35f160b13ed52195005e41b219907c1be09b125a1c17e685484faa"
      }
    },
    "colab": {
      "provenance": []
    }
  },
  "nbformat": 4,
  "nbformat_minor": 5
}